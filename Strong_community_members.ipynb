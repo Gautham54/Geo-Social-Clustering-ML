{
 "cells": [
  {
   "cell_type": "code",
   "execution_count": 24,
   "metadata": {},
   "outputs": [
    {
     "data": {
      "text/html": [
       "<div>\n",
       "<style scoped>\n",
       "    .dataframe tbody tr th:only-of-type {\n",
       "        vertical-align: middle;\n",
       "    }\n",
       "\n",
       "    .dataframe tbody tr th {\n",
       "        vertical-align: top;\n",
       "    }\n",
       "\n",
       "    .dataframe thead th {\n",
       "        text-align: right;\n",
       "    }\n",
       "</style>\n",
       "<table border=\"1\" class=\"dataframe\">\n",
       "  <thead>\n",
       "    <tr style=\"text-align: right;\">\n",
       "      <th></th>\n",
       "      <th>userid</th>\n",
       "      <th>placeid</th>\n",
       "    </tr>\n",
       "  </thead>\n",
       "  <tbody>\n",
       "    <tr>\n",
       "      <th>0</th>\n",
       "      <td>1338</td>\n",
       "      <td>482954</td>\n",
       "    </tr>\n",
       "    <tr>\n",
       "      <th>1</th>\n",
       "      <td>1338</td>\n",
       "      <td>580963</td>\n",
       "    </tr>\n",
       "    <tr>\n",
       "      <th>2</th>\n",
       "      <td>1338</td>\n",
       "      <td>365256</td>\n",
       "    </tr>\n",
       "    <tr>\n",
       "      <th>3</th>\n",
       "      <td>1338</td>\n",
       "      <td>89504</td>\n",
       "    </tr>\n",
       "    <tr>\n",
       "      <th>4</th>\n",
       "      <td>1338</td>\n",
       "      <td>1267135</td>\n",
       "    </tr>\n",
       "  </tbody>\n",
       "</table>\n",
       "</div>"
      ],
      "text/plain": [
       "   userid  placeid\n",
       "0    1338   482954\n",
       "1    1338   580963\n",
       "2    1338   365256\n",
       "3    1338    89504\n",
       "4    1338  1267135"
      ]
     },
     "execution_count": 24,
     "metadata": {},
     "output_type": "execute_result"
    }
   ],
   "source": [
    "import pandas as pd\n",
    "data=pd.read_csv('gowalla_checkins.csv')\n",
    "del data['datetime']\n",
    "data.head()"
   ]
  },
  {
   "cell_type": "code",
   "execution_count": 25,
   "metadata": {},
   "outputs": [
    {
     "data": {
      "text/html": [
       "<div>\n",
       "<style scoped>\n",
       "    .dataframe tbody tr th:only-of-type {\n",
       "        vertical-align: middle;\n",
       "    }\n",
       "\n",
       "    .dataframe tbody tr th {\n",
       "        vertical-align: top;\n",
       "    }\n",
       "\n",
       "    .dataframe thead th {\n",
       "        text-align: right;\n",
       "    }\n",
       "</style>\n",
       "<table border=\"1\" class=\"dataframe\">\n",
       "  <thead>\n",
       "    <tr style=\"text-align: right;\">\n",
       "      <th></th>\n",
       "      <th>userid1</th>\n",
       "      <th>userid2</th>\n",
       "    </tr>\n",
       "  </thead>\n",
       "  <tbody>\n",
       "    <tr>\n",
       "      <th>0</th>\n",
       "      <td>1</td>\n",
       "      <td>63488</td>\n",
       "    </tr>\n",
       "    <tr>\n",
       "      <th>1</th>\n",
       "      <td>1</td>\n",
       "      <td>2</td>\n",
       "    </tr>\n",
       "    <tr>\n",
       "      <th>2</th>\n",
       "      <td>1</td>\n",
       "      <td>3</td>\n",
       "    </tr>\n",
       "    <tr>\n",
       "      <th>3</th>\n",
       "      <td>1</td>\n",
       "      <td>4</td>\n",
       "    </tr>\n",
       "    <tr>\n",
       "      <th>4</th>\n",
       "      <td>1</td>\n",
       "      <td>5</td>\n",
       "    </tr>\n",
       "  </tbody>\n",
       "</table>\n",
       "</div>"
      ],
      "text/plain": [
       "   userid1  userid2\n",
       "0        1    63488\n",
       "1        1        2\n",
       "2        1        3\n",
       "3        1        4\n",
       "4        1        5"
      ]
     },
     "execution_count": 25,
     "metadata": {},
     "output_type": "execute_result"
    }
   ],
   "source": [
    "#add each pair to a hash table for efficient searching\n",
    "d=pd.read_csv('gowalla_friendship.csv')\n",
    "d.head()"
   ]
  },
  {
   "cell_type": "code",
   "execution_count": 26,
   "metadata": {},
   "outputs": [],
   "source": [
    "k=pd.read_csv('gowalla_spots_subset1.csv')\n",
    "maxD=k['radius_meters'].max()\n"
   ]
  },
  {
   "cell_type": "code",
   "execution_count": 27,
   "metadata": {},
   "outputs": [
    {
     "data": {
      "text/html": [
       "<div>\n",
       "<style scoped>\n",
       "    .dataframe tbody tr th:only-of-type {\n",
       "        vertical-align: middle;\n",
       "    }\n",
       "\n",
       "    .dataframe tbody tr th {\n",
       "        vertical-align: top;\n",
       "    }\n",
       "\n",
       "    .dataframe thead th {\n",
       "        text-align: right;\n",
       "    }\n",
       "</style>\n",
       "<table border=\"1\" class=\"dataframe\">\n",
       "  <thead>\n",
       "    <tr style=\"text-align: right;\">\n",
       "      <th></th>\n",
       "      <th>placeid</th>\n",
       "      <th>lng</th>\n",
       "      <th>lat</th>\n",
       "      <th>users_count</th>\n",
       "      <th>userid</th>\n",
       "    </tr>\n",
       "  </thead>\n",
       "  <tbody>\n",
       "    <tr>\n",
       "      <th>0</th>\n",
       "      <td>8904</td>\n",
       "      <td>-94.607499</td>\n",
       "      <td>39.052318</td>\n",
       "      <td>21</td>\n",
       "      <td>1</td>\n",
       "    </tr>\n",
       "    <tr>\n",
       "      <th>72</th>\n",
       "      <td>8904</td>\n",
       "      <td>-94.607499</td>\n",
       "      <td>39.052318</td>\n",
       "      <td>21</td>\n",
       "      <td>151</td>\n",
       "    </tr>\n",
       "    <tr>\n",
       "      <th>73</th>\n",
       "      <td>8904</td>\n",
       "      <td>-94.607499</td>\n",
       "      <td>39.052318</td>\n",
       "      <td>21</td>\n",
       "      <td>159</td>\n",
       "    </tr>\n",
       "    <tr>\n",
       "      <th>74</th>\n",
       "      <td>8904</td>\n",
       "      <td>-94.607499</td>\n",
       "      <td>39.052318</td>\n",
       "      <td>21</td>\n",
       "      <td>25</td>\n",
       "    </tr>\n",
       "    <tr>\n",
       "      <th>75</th>\n",
       "      <td>8904</td>\n",
       "      <td>-94.607499</td>\n",
       "      <td>39.052318</td>\n",
       "      <td>21</td>\n",
       "      <td>847</td>\n",
       "    </tr>\n",
       "  </tbody>\n",
       "</table>\n",
       "</div>"
      ],
      "text/plain": [
       "    placeid        lng        lat  users_count  userid\n",
       "0      8904 -94.607499  39.052318           21       1\n",
       "72     8904 -94.607499  39.052318           21     151\n",
       "73     8904 -94.607499  39.052318           21     159\n",
       "74     8904 -94.607499  39.052318           21      25\n",
       "75     8904 -94.607499  39.052318           21     847"
      ]
     },
     "execution_count": 27,
     "metadata": {},
     "output_type": "execute_result"
    }
   ],
   "source": [
    "e=pd.read_csv('gowalla_spots_subset1.csv')\n",
    "e=e.rename(columns={\"id\":\"placeid\"})\n",
    "e.drop(e.columns[[1, 4,5,7,8,9,10,11]], axis = 1, inplace = True)\n",
    "balanced_data=pd.merge(e,data, on = \"placeid\", how = \"inner\")\n",
    "\n",
    "#balanced_data.drop(balanced_data.columns[[1,2,3]], axis = 1, inplace = True)\n",
    "balanced_data=pd.DataFrame.drop_duplicates(balanced_data)\n",
    "balanced_data.head()"
   ]
  },
  {
   "cell_type": "code",
   "execution_count": 28,
   "metadata": {},
   "outputs": [],
   "source": [
    "\n",
    "datal=balanced_data.drop(balanced_data.columns[[3,4]], axis = 1)\n",
    "place_clustering_data=pd.DataFrame.drop_duplicates(datal)"
   ]
  },
  {
   "cell_type": "code",
   "execution_count": 29,
   "metadata": {},
   "outputs": [
    {
     "data": {
      "text/html": [
       "<div>\n",
       "<style scoped>\n",
       "    .dataframe tbody tr th:only-of-type {\n",
       "        vertical-align: middle;\n",
       "    }\n",
       "\n",
       "    .dataframe tbody tr th {\n",
       "        vertical-align: top;\n",
       "    }\n",
       "\n",
       "    .dataframe thead th {\n",
       "        text-align: right;\n",
       "    }\n",
       "</style>\n",
       "<table border=\"1\" class=\"dataframe\">\n",
       "  <thead>\n",
       "    <tr style=\"text-align: right;\">\n",
       "      <th></th>\n",
       "      <th>placeid</th>\n",
       "      <th>lng</th>\n",
       "      <th>lat</th>\n",
       "    </tr>\n",
       "  </thead>\n",
       "  <tbody>\n",
       "    <tr>\n",
       "      <th>0</th>\n",
       "      <td>8904</td>\n",
       "      <td>-94.607499</td>\n",
       "      <td>39.052318</td>\n",
       "    </tr>\n",
       "    <tr>\n",
       "      <th>114</th>\n",
       "      <td>8932</td>\n",
       "      <td>-97.254356</td>\n",
       "      <td>32.927662</td>\n",
       "    </tr>\n",
       "    <tr>\n",
       "      <th>179</th>\n",
       "      <td>8936</td>\n",
       "      <td>-94.591995</td>\n",
       "      <td>39.053318</td>\n",
       "    </tr>\n",
       "    <tr>\n",
       "      <th>249</th>\n",
       "      <td>8938</td>\n",
       "      <td>-94.590311</td>\n",
       "      <td>39.052824</td>\n",
       "    </tr>\n",
       "    <tr>\n",
       "      <th>661</th>\n",
       "      <td>8947</td>\n",
       "      <td>-122.029631</td>\n",
       "      <td>37.331880</td>\n",
       "    </tr>\n",
       "  </tbody>\n",
       "</table>\n",
       "</div>"
      ],
      "text/plain": [
       "     placeid         lng        lat\n",
       "0       8904  -94.607499  39.052318\n",
       "114     8932  -97.254356  32.927662\n",
       "179     8936  -94.591995  39.053318\n",
       "249     8938  -94.590311  39.052824\n",
       "661     8947 -122.029631  37.331880"
      ]
     },
     "execution_count": 29,
     "metadata": {},
     "output_type": "execute_result"
    }
   ],
   "source": [
    "place_clustering_data.head()"
   ]
  },
  {
   "cell_type": "code",
   "execution_count": 30,
   "metadata": {},
   "outputs": [],
   "source": [
    "import numpy as np\n",
    "import pandas as pd\n",
    "from sklearn.cluster import DBSCAN\n",
    "from collections import Counter\n",
    "from sklearn.preprocessing import StandardScaler\n",
    "import matplotlib.pyplot as plt\n",
    "%matplotlib inline"
   ]
  },
  {
   "cell_type": "code",
   "execution_count": 31,
   "metadata": {},
   "outputs": [
    {
     "data": {
      "text/plain": [
       "placeid    0\n",
       "lng        0\n",
       "lat        0\n",
       "dtype: int64"
      ]
     },
     "execution_count": 31,
     "metadata": {},
     "output_type": "execute_result"
    }
   ],
   "source": [
    "data=place_clustering_data.sample(500)\n",
    "data.isna().sum()"
   ]
  },
  {
   "cell_type": "code",
   "execution_count": 32,
   "metadata": {},
   "outputs": [
    {
     "data": {
      "image/png": "[encoded data removed]",
      "text/plain": [
       "<Figure size 432x288 with 1 Axes>"
      ]
     },
     "metadata": {
      "needs_background": "light"
     },
     "output_type": "display_data"
    }
   ],
   "source": [
    "_=plt.plot(data['lng'],data['lat'],marker='.',linewidth=0,color='#128128')\n",
    "_=plt.grid(which='major',color='#cccccc',alpha=0.45)\n",
    "_=plt.title('Geographic location',family='Arial',fontsize=12)\n",
    "_=plt.xlabel('Longitude')\n",
    "_=plt.ylabel('Latitude')"
   ]
  },
  {
   "cell_type": "code",
   "execution_count": 33,
   "metadata": {},
   "outputs": [],
   "source": [
    "dbscan_data=data[['lng','lat']]\n",
    "dbscan_data=dbscan_data.values.astype('float32',copy=False)"
   ]
  },
  {
   "cell_type": "code",
   "execution_count": 34,
   "metadata": {},
   "outputs": [],
   "source": [
    "dbscan_data_scaler=StandardScaler().fit(dbscan_data)\n",
    "dbscan_data=dbscan_data_scaler.transform(dbscan_data)"
   ]
  },
  {
   "cell_type": "code",
   "execution_count": 35,
   "metadata": {},
   "outputs": [
    {
     "data": {
      "text/plain": [
       "DBSCAN(eps=0.25)"
      ]
     },
     "execution_count": 35,
     "metadata": {},
     "output_type": "execute_result"
    }
   ],
   "source": [
    "model=DBSCAN(eps=0.25,min_samples=5,metric='euclidean').fit(dbscan_data)\n",
    "model"
   ]
  },
  {
   "cell_type": "code",
   "execution_count": 36,
   "metadata": {},
   "outputs": [
    {
     "name": "stdout",
     "output_type": "stream",
     "text": [
      "Counter({2: 192, 5: 189, 3: 33, -1: 29, 6: 24, 1: 9, 0: 7, 4: 6, 7: 6, 8: 5})\n",
      "          placeid         lng        lat\n",
      "28551848  2390637  107.616662  -6.917238\n",
      "9864114    181398  115.861985 -31.953712\n",
      "25572758  1271767   20.534654  69.601668\n",
      "35005016  7199732  -66.704075  18.266541\n",
      "31910108  6474494   77.616994  12.975502\n",
      "Number of clusters =9\n"
     ]
    }
   ],
   "source": [
    "outliers_df=data[model.labels_==-1]\n",
    "clusters_df=data[model.labels_!=-1]\n",
    "colors=model.labels_\n",
    "colors_clusters=colors[colors!=-1]\n",
    "color_outliers='black'\n",
    "clusters=Counter(model.labels_)\n",
    "print(clusters)\n",
    "print(data[model.labels_==-1].head())\n",
    "print('Number of clusters ={}'.format(len(clusters)-1))"
   ]
  },
  {
   "cell_type": "code",
   "execution_count": 37,
   "metadata": {},
   "outputs": [
    {
     "data": {
      "text/plain": [
       "array([ 0, -1,  1,  2,  2,  3,  2,  2,  2,  4,  2,  5,  2,  6,  5,  2,  5,\n",
       "        2,  2,  5, -1,  2,  5,  5,  5,  5,  2,  5,  2,  3,  3,  5,  2, -1,\n",
       "        5,  2,  7,  2,  2,  2,  5,  5,  8,  3,  5,  6,  5,  5,  7,  2, -1,\n",
       "       -1,  2,  5,  5,  5,  6,  5,  3, -1, -1,  8, -1,  5,  2, -1,  2,  2,\n",
       "        5,  5,  2,  2,  5,  5,  2,  2,  5,  3,  6,  3,  5,  6,  0,  2,  5,\n",
       "        5,  5,  2,  1,  2,  2,  6,  3,  2,  5,  5,  2,  2, -1,  5,  2,  5,\n",
       "        2,  5,  2,  2,  4, -1,  5,  6,  5,  1,  5,  5,  2,  1,  5,  2,  5,\n",
       "        5,  2,  2,  2,  4,  5,  5,  2,  1,  5,  2,  5,  5, -1,  2,  2,  5,\n",
       "        5, -1, -1,  5,  5,  6,  7,  4,  2,  2,  3,  5,  2, -1,  2,  2,  5,\n",
       "        5,  2,  2,  5,  5,  3,  2,  5,  5,  5,  2,  2,  3,  5,  2,  5,  8,\n",
       "        5,  2,  5,  5,  1,  5,  5,  2,  5,  2,  2,  2,  2,  5,  5,  5,  5,\n",
       "        5,  2,  5,  5,  2, -1,  5,  2,  2,  7,  5,  3,  5,  2,  5,  2,  2,\n",
       "        6,  2,  2,  2,  5,  2,  5,  3,  4,  5, -1,  4,  2,  5,  3,  2,  5,\n",
       "        2,  2,  5,  3,  5,  6,  2,  5,  2,  5,  5,  7,  5,  3,  2,  2,  5,\n",
       "        2,  5,  1,  5,  2,  2, -1,  2,  5,  2,  2,  5,  3,  2,  5,  5,  2,\n",
       "        5,  2,  2,  3,  3,  2,  3,  5,  5,  2, -1,  5,  5,  2,  1,  2,  2,\n",
       "        2,  3,  2,  5,  8,  2,  5,  0,  2,  5,  5,  5,  5,  6,  2,  2,  2,\n",
       "        5,  2,  5,  2,  2,  5,  5,  5,  2,  2,  2,  2,  5,  5,  5,  3,  2,\n",
       "        3,  5,  5,  5,  5,  5,  6,  3,  2,  2, -1,  6,  5,  5,  2,  2,  2,\n",
       "        2,  2,  2,  0,  5,  2,  5,  5,  5,  2, -1,  6,  2,  2,  2,  5,  5,\n",
       "        2,  2,  2,  2,  2, -1,  5,  5,  2,  5,  2,  5,  2,  2,  2,  0,  6,\n",
       "        5,  5,  6, -1,  2,  2,  5,  2,  5,  2,  2,  6,  5,  2,  3,  5,  2,\n",
       "        3,  3,  5,  5,  2,  5,  0,  2,  2,  5,  5,  6,  6,  5,  5,  5,  5,\n",
       "        2,  5,  2,  2,  0,  5,  2,  5,  6,  2,  2,  2,  5,  2,  5,  5,  5,\n",
       "        5,  3,  3,  2,  2,  5,  2,  5,  2,  7, -1,  2,  5,  5,  5,  5,  2,\n",
       "        2, -1,  5,  2,  5,  5,  5,  2,  5, -1,  1,  2,  2,  2,  5,  5,  5,\n",
       "        5,  2,  5,  2,  5,  2,  5,  5,  5,  2,  5, -1,  2,  5,  5,  6,  2,\n",
       "       -1,  5,  2,  5,  6,  5,  2,  5,  5,  2,  2,  2,  3,  5,  6,  2,  3,\n",
       "        2,  8,  3,  2,  5,  2,  6,  2,  2,  2,  2,  2,  5,  2,  5,  2,  2,\n",
       "        5,  3,  2,  5, -1,  2,  2], dtype=int64)"
      ]
     },
     "execution_count": 37,
     "metadata": {},
     "output_type": "execute_result"
    }
   ],
   "source": [
    "model.labels_"
   ]
  },
  {
   "cell_type": "code",
   "execution_count": 38,
   "metadata": {},
   "outputs": [
    {
     "data": {
      "image/png": "[encoded data removed]",
      "text/plain": [
       "<Figure size 432x288 with 1 Axes>"
      ]
     },
     "metadata": {
      "needs_background": "light"
     },
     "output_type": "display_data"
    }
   ],
   "source": [
    "fig=plt.figure()\n",
    "ax=fig.add_axes([.1,.1,1,1])\n",
    "ax.scatter(clusters_df['lng'],clusters_df['lat'],c=colors_clusters,edgecolors='black',s=50)\n",
    "ax.scatter(outliers_df['lng'],outliers_df['lat'],c=color_outliers,edgecolors='black',s=50)\n",
    "ax.set_xlabel('Longitude',family='Arial',fontsize=9)\n",
    "ax.set_ylabel('latitude',family='Arial',fontsize=9)\n",
    "plt.title('Geographic location',family='Arial',fontsize=12)\n",
    "plt.grid(which='major',color='#cccccc',alpha=0.45)\n",
    "plt.show()"
   ]
  },
  {
   "cell_type": "code",
   "execution_count": 39,
   "metadata": {},
   "outputs": [],
   "source": [
    "def calculate_contributing_users(p1,p2):\n",
    "    cu=0\n",
    "    for i in p1:\n",
    "        l=d[d['userid1']==i]\n",
    "        r=l['userid2'].values\n",
    "        q=set(r).intersection(p2)\n",
    "        cu=cu+len(q)\n",
    "        \n",
    "    return cu       \n",
    "            "
   ]
  },
  {
   "cell_type": "code",
   "execution_count": 40,
   "metadata": {},
   "outputs": [],
   "source": [
    "def check_social_distance(df,new_clusters_df):\n",
    "    p1=[]\n",
    "    p2=[]\n",
    "    for i in df['placeid']:\n",
    "        f=balanced_data[balanced_data['placeid']==i]\n",
    "        p1=f['userid'].values\n",
    "        sd=[]\n",
    "        mean=0\n",
    "        for j in df['placeid']:\n",
    "            if(i!=j):\n",
    "                r=balanced_data[balanced_data['placeid']==j]\n",
    "                p2=r['userid'].values\n",
    "                k=set(p1).intersection(p2)\n",
    "                union_p1_p2=len(p1)+len(p2)-len(k)\n",
    "                q1=set(p1)\n",
    "                q2=set(p2)\n",
    "                q1=q1-k\n",
    "                q2=q2-k\n",
    "                contributing_users=calculate_contributing_users(q1,q2)\n",
    "                social_distance=(contributing_users+len(k))/union_p1_p2\n",
    "                sd.append(social_distance)\n",
    "                mean=mean+social_distance\n",
    "        mean_sd=mean/len(df['placeid'])\n",
    "        for j in sd:\n",
    "            if(j==0):\n",
    "                df=df.drop(df[df.placeid==i].index)\n",
    "                break\n",
    "        del sd\n",
    "    return len(df),df\n",
    "        \n",
    "            \n",
    "            \n",
    "            \n",
    "    "
   ]
  },
  {
   "cell_type": "code",
   "execution_count": 41,
   "metadata": {},
   "outputs": [],
   "source": [
    "new_clusters_df=pd.DataFrame()\n",
    "labels=[]\n",
    "cluster_no=0"
   ]
  },
  {
   "cell_type": "code",
   "execution_count": 42,
   "metadata": {},
   "outputs": [],
   "source": [
    "for i in range(len(clusters)-1):\n",
    "    length,df=check_social_distance(data[model.labels_==i],new_clusters_df)\n",
    "    for j in range(length):\n",
    "        labels.append(cluster_no)\n",
    "    if(len(df)>0):\n",
    "        cluster_no=cluster_no+1\n",
    "    new_clusters_df=new_clusters_df.append(df)"
   ]
  },
  {
   "cell_type": "code",
   "execution_count": 43,
   "metadata": {},
   "outputs": [
    {
     "data": {
      "text/html": [
       "<div>\n",
       "<style scoped>\n",
       "    .dataframe tbody tr th:only-of-type {\n",
       "        vertical-align: middle;\n",
       "    }\n",
       "\n",
       "    .dataframe tbody tr th {\n",
       "        vertical-align: top;\n",
       "    }\n",
       "\n",
       "    .dataframe thead th {\n",
       "        text-align: right;\n",
       "    }\n",
       "</style>\n",
       "<table border=\"1\" class=\"dataframe\">\n",
       "  <thead>\n",
       "    <tr style=\"text-align: right;\">\n",
       "      <th></th>\n",
       "      <th>placeid</th>\n",
       "      <th>lng</th>\n",
       "      <th>lat</th>\n",
       "    </tr>\n",
       "  </thead>\n",
       "  <tbody>\n",
       "    <tr>\n",
       "      <th>31726101</th>\n",
       "      <td>6443997</td>\n",
       "      <td>139.560653</td>\n",
       "      <td>35.703955</td>\n",
       "    </tr>\n",
       "    <tr>\n",
       "      <th>19365767</th>\n",
       "      <td>699563</td>\n",
       "      <td>139.632872</td>\n",
       "      <td>35.500963</td>\n",
       "    </tr>\n",
       "    <tr>\n",
       "      <th>33218666</th>\n",
       "      <td>6727583</td>\n",
       "      <td>139.695645</td>\n",
       "      <td>35.662122</td>\n",
       "    </tr>\n",
       "    <tr>\n",
       "      <th>16856472</th>\n",
       "      <td>522003</td>\n",
       "      <td>-122.360589</td>\n",
       "      <td>47.524538</td>\n",
       "    </tr>\n",
       "    <tr>\n",
       "      <th>12062532</th>\n",
       "      <td>269054</td>\n",
       "      <td>-88.053632</td>\n",
       "      <td>43.153736</td>\n",
       "    </tr>\n",
       "    <tr>\n",
       "      <th>33576087</th>\n",
       "      <td>6802894</td>\n",
       "      <td>98.967979</td>\n",
       "      <td>18.797715</td>\n",
       "    </tr>\n",
       "    <tr>\n",
       "      <th>8461583</th>\n",
       "      <td>136144</td>\n",
       "      <td>138.598087</td>\n",
       "      <td>-34.923836</td>\n",
       "    </tr>\n",
       "    <tr>\n",
       "      <th>31906118</th>\n",
       "      <td>6473993</td>\n",
       "      <td>15.082230</td>\n",
       "      <td>57.419477</td>\n",
       "    </tr>\n",
       "    <tr>\n",
       "      <th>27950227</th>\n",
       "      <td>1594696</td>\n",
       "      <td>39.151640</td>\n",
       "      <td>21.523811</td>\n",
       "    </tr>\n",
       "    <tr>\n",
       "      <th>29449171</th>\n",
       "      <td>3767748</td>\n",
       "      <td>39.791211</td>\n",
       "      <td>21.396737</td>\n",
       "    </tr>\n",
       "    <tr>\n",
       "      <th>30877882</th>\n",
       "      <td>5975969</td>\n",
       "      <td>120.684922</td>\n",
       "      <td>24.198337</td>\n",
       "    </tr>\n",
       "    <tr>\n",
       "      <th>22062030</th>\n",
       "      <td>919089</td>\n",
       "      <td>101.691440</td>\n",
       "      <td>3.175318</td>\n",
       "    </tr>\n",
       "  </tbody>\n",
       "</table>\n",
       "</div>"
      ],
      "text/plain": [
       "          placeid         lng        lat\n",
       "31726101  6443997  139.560653  35.703955\n",
       "19365767   699563  139.632872  35.500963\n",
       "33218666  6727583  139.695645  35.662122\n",
       "16856472   522003 -122.360589  47.524538\n",
       "12062532   269054  -88.053632  43.153736\n",
       "33576087  6802894   98.967979  18.797715\n",
       "8461583    136144  138.598087 -34.923836\n",
       "31906118  6473993   15.082230  57.419477\n",
       "27950227  1594696   39.151640  21.523811\n",
       "29449171  3767748   39.791211  21.396737\n",
       "30877882  5975969  120.684922  24.198337\n",
       "22062030   919089  101.691440   3.175318"
      ]
     },
     "execution_count": 43,
     "metadata": {},
     "output_type": "execute_result"
    }
   ],
   "source": [
    "new_clusters_df"
   ]
  },
  {
   "cell_type": "code",
   "execution_count": 44,
   "metadata": {},
   "outputs": [
    {
     "data": {
      "text/plain": [
       "[0, 0, 0, 1, 2, 3, 4, 5, 6, 6, 7, 8]"
      ]
     },
     "execution_count": 44,
     "metadata": {},
     "output_type": "execute_result"
    }
   ],
   "source": [
    "labels"
   ]
  },
  {
   "cell_type": "code",
   "execution_count": 45,
   "metadata": {},
   "outputs": [
    {
     "name": "stdout",
     "output_type": "stream",
     "text": [
      "Counter({0: 3, 6: 2, 1: 1, 2: 1, 3: 1, 4: 1, 5: 1, 7: 1, 8: 1})\n",
      "Number of clusters =8\n"
     ]
    }
   ],
   "source": [
    "new_colors=labels\n",
    "new_colors_clusters=colors[colors!=-1]\n",
    "new_clusters=Counter(labels)\n",
    "print(new_clusters)\n",
    "print('Number of clusters ={}'.format(len(new_clusters)-1))"
   ]
  },
  {
   "cell_type": "code",
   "execution_count": 46,
   "metadata": {},
   "outputs": [
    {
     "data": {
      "image/png": "[encoded data removed]",
      "text/plain": [
       "<Figure size 432x288 with 1 Axes>"
      ]
     },
     "metadata": {
      "needs_background": "light"
     },
     "output_type": "display_data"
    }
   ],
   "source": [
    "fig=plt.figure()\n",
    "ax=fig.add_axes([.1,.1,1,1])\n",
    "ax.scatter(new_clusters_df['lng'],new_clusters_df['lat'],c=new_colors,edgecolors='black',s=50)\n",
    "ax.set_xlabel('Longitude',family='Arial',fontsize=9)\n",
    "ax.set_ylabel('latitude',family='Arial',fontsize=9)\n",
    "plt.title('Geographic location',family='Arial',fontsize=12)\n",
    "plt.grid(which='major',color='#cccccc',alpha=0.45)\n",
    "plt.show()"
   ]
  },
  {
   "cell_type": "code",
   "execution_count": null,
   "metadata": {},
   "outputs": [],
   "source": []
  }
 ],
 "metadata": {
  "kernelspec": {
   "display_name": "Python 3",
   "language": "python",
   "name": "python3"
  },
  "language_info": {
   "codemirror_mode": {
    "name": "ipython",
    "version": 3
   },
   "file_extension": ".py",
   "mimetype": "text/x-python",
   "name": "python",
   "nbconvert_exporter": "python",
   "pygments_lexer": "ipython3",
   "version": "3.8.5"
  }
 },
 "nbformat": 4,
 "nbformat_minor": 4
}
